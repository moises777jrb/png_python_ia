{
  "cells": [
    {
      "cell_type": "markdown",
      "metadata": {
        "id": "3nT-4wYW7UII"
      },
      "source": [
        "Pip é o gerenciador de pacotes do puthon, responsavel pela intalação daas bibliotecas usadas pela liguagem"
      ]
    },
    {
      "cell_type": "code",
      "execution_count": 1,
      "metadata": {
        "colab": {
          "base_uri": "https://localhost:8080/"
        },
        "id": "jhKmMNwF680Z",
        "outputId": "88b637c0-ca06-4dc4-bd77-63d0226e835f"
      },
      "outputs": [
        {
          "name": "stdout",
          "output_type": "stream",
          "text": [
            "Requirement already satisfied: nltk in /usr/local/lib/python3.10/dist-packages (3.8.1)\n",
            "Requirement already satisfied: textblob in /usr/local/lib/python3.10/dist-packages (0.17.1)\n",
            "Requirement already satisfied: click in /usr/local/lib/python3.10/dist-packages (from nltk) (8.1.7)\n",
            "Requirement already satisfied: joblib in /usr/local/lib/python3.10/dist-packages (from nltk) (1.4.2)\n",
            "Requirement already satisfied: regex>=2021.8.3 in /usr/local/lib/python3.10/dist-packages (from nltk) (2024.9.11)\n",
            "Requirement already satisfied: tqdm in /usr/local/lib/python3.10/dist-packages (from nltk) (4.66.5)\n"
          ]
        }
      ],
      "source": [
        "pip install nltk textblob\n"
      ]
    },
    {
      "cell_type": "code",
      "execution_count": 36,
      "metadata": {
        "id": "fMTG-SM77wO4"
      },
      "outputs": [],
      "source": [
        "import nltk\n",
        "from nltk.corpus import stopwords\n",
        "from nltk.tokenize import word_tokenize\n",
        "from textblob import TextBlob"
      ]
    },
    {
      "cell_type": "markdown",
      "metadata": {
        "id": "yNn4WSjz-9lD"
      },
      "source": [
        "Baixar componentes NLTK necessários"
      ]
    },
    {
      "cell_type": "code",
      "execution_count": 37,
      "metadata": {
        "colab": {
          "base_uri": "https://localhost:8080/"
        },
        "id": "mv6PN0az_K1z",
        "outputId": "e6ea142d-2da3-4a80-ca79-ab5ffef8181d"
      },
      "outputs": [
        {
          "name": "stderr",
          "output_type": "stream",
          "text": [
            "[nltk_data] Downloading package punkt to /root/nltk_data...\n",
            "[nltk_data]   Package punkt is already up-to-date!\n",
            "[nltk_data] Downloading package stopwords to /root/nltk_data...\n",
            "[nltk_data]   Package stopwords is already up-to-date!\n"
          ]
        },
        {
          "data": {
            "text/plain": [
              "True"
            ]
          },
          "execution_count": 37,
          "metadata": {},
          "output_type": "execute_result"
        }
      ],
      "source": [
        "nltk.download('punkt')\n",
        "nltk.download('stopwords')"
      ]
    },
    {
      "cell_type": "markdown",
      "metadata": {
        "id": "9u8vS8BoAwc_"
      },
      "source": [
        "Função de pré processamento de texto"
      ]
    },
    {
      "cell_type": "code",
      "execution_count": 42,
      "metadata": {
        "id": "ykFnVD44Ayyx"
      },
      "outputs": [],
      "source": [
        "def preprocesso(texto):\n",
        "    #Tokenização\n",
        "    tokens = word_tokenize(texto.lower())\n",
        "\n",
        "    #Remover os espaços das frases\n",
        "    espacos = set(stopwords.words('english'))\n",
        "\n",
        "    #Filtrando os tokens\n",
        "    tokens_filtrados = [palavra for palavra in tokens if palavra.isalnum()and palavra not in espacos\n",
        "    and palavra not in espacos]\n",
        "    #Retorno da funçao\n",
        "    return \" \".join(tokens_filtrados)\n"
      ]
    },
    {
      "cell_type": "markdown",
      "metadata": {
        "id": "kkyW0oJFIVu4"
      },
      "source": [
        "Funçao analise de sentimentos"
      ]
    },
    {
      "cell_type": "code",
      "execution_count": 46,
      "metadata": {
        "id": "3vfmIgQwIbbz"
      },
      "outputs": [],
      "source": [
        "def sentimentos(texto):\n",
        "\n",
        "  #Limpando o texto digitando\n",
        "  texto_limpo = preprocesso(texto)\n",
        "\n",
        "  #analise de sentimento do texto\n",
        "  blob = TextBlob(texto_limpo)\n",
        "\n",
        "  #aplicando a polaridade do sentimento\n",
        "  sentimento = blob.sentiment.polarity\n",
        "\n",
        "  #retornando a pontuação\n",
        "  return sentimento"
      ]
    },
    {
      "cell_type": "markdown",
      "metadata": {
        "id": "IjODCgJiKxU7"
      },
      "source": [
        "Lista de frases com sentimentos"
      ]
    },
    {
      "cell_type": "code",
      "execution_count": 40,
      "metadata": {
        "id": "ONlRuvnlLD5X"
      },
      "outputs": [],
      "source": [
        "Frases = [\"This app helped me find my perfect match; the user experience is seamless and intuitive!\",\n",
        "          \"The variety of profiles is amazing, making it easy to connect with interesting people.\",\n",
        "          \"I love the messaging feature; it allows for meaningful conversations right from the start!\",\n",
        "          \"This app has a fantastic community; everyone is supportive and friendly.\",\n",
        "          \"The design is modern and appealing, making the whole experience enjoyable!\",\n",
        "          \"I encountered too many fake profiles, which made the experience frustrating.,\",\n",
        "          \"The matching algorithm seems off; I keep getting suggestions that don’t align with my interests.\",\n",
        "          \"The app crashes frequently, making it hard to have smooth conversations.\",\n",
        "          \"I wish there were more filters to refine my search; it feels overwhelming at times.\",\n",
        "          \"Customer support is lacking; it took too long to get a response to my issue.\"]\n"
      ]
    },
    {
      "cell_type": "markdown",
      "metadata": {
        "id": "d_VnTj_7NuUF"
      },
      "source": [
        "Exibindo a frase e sua pontuação"
      ]
    },
    {
      "cell_type": "code",
      "execution_count": 48,
      "metadata": {
        "colab": {
          "base_uri": "https://localhost:8080/"
        },
        "id": "RW77OrOYOfWb",
        "outputId": "4b38f62b-780c-4066-9718-220c52851d92"
      },
      "outputs": [
        {
          "name": "stdout",
          "output_type": "stream",
          "text": [
            "This app helped me find my perfect match; the user experience is seamless and intuitive!: This app helped me find my perfect match; the user experience is seamless and intuitive!\n",
            "Pontuação:0.55\n",
            "The variety of profiles is amazing, making it easy to connect with interesting people.: The variety of profiles is amazing, making it easy to connect with interesting people.\n",
            "Pontuação:0.51\n",
            "I love the messaging feature; it allows for meaningful conversations right from the start!: I love the messaging feature; it allows for meaningful conversations right from the start!\n",
            "Pontuação:0.43\n",
            "This app has a fantastic community; everyone is supportive and friendly.: This app has a fantastic community; everyone is supportive and friendly.\n",
            "Pontuação:0.42\n",
            "The design is modern and appealing, making the whole experience enjoyable!: The design is modern and appealing, making the whole experience enjoyable!\n",
            "Pontuação:0.35\n",
            "I encountered too many fake profiles, which made the experience frustrating.,: I encountered too many fake profiles, which made the experience frustrating.,\n",
            "Pontuação:0.0\n",
            "The matching algorithm seems off; I keep getting suggestions that don’t align with my interests.: The matching algorithm seems off; I keep getting suggestions that don’t align with my interests.\n",
            "Pontuação:0.0\n",
            "The app crashes frequently, making it hard to have smooth conversations.: The app crashes frequently, making it hard to have smooth conversations.\n",
            "Pontuação:0.07\n",
            "I wish there were more filters to refine my search; it feels overwhelming at times.: I wish there were more filters to refine my search; it feels overwhelming at times.\n",
            "Pontuação:0.5\n",
            "Customer support is lacking; it took too long to get a response to my issue.: Customer support is lacking; it took too long to get a response to my issue.\n",
            "Pontuação:-0.05\n"
          ]
        }
      ],
      "source": [
        "for comentario in Frases:\n",
        "  nivel = sentimentos(comentario)\n",
        "  print(f\"{comentario}: {comentario}\\nPontuação:{round(nivel,2)}\")"
      ]
    }
  ],
  "metadata": {
    "colab": {
      "name": "Olá, este é o Colaboratory",
      "provenance": []
    },
    "kernelspec": {
      "display_name": "Python 3",
      "name": "python3"
    }
  },
  "nbformat": 4,
  "nbformat_minor": 0
}
